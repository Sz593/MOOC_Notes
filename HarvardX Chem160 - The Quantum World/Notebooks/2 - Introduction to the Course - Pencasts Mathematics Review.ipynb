{
 "cells": [
  {
   "cell_type": "markdown",
   "metadata": {},
   "source": [
    "# Table of Contents\n",
    "1. [Brief Review of Vector Analysis](#Brief-Review-of-Vector-Analysis)\n",
    "2. [Vector Calculus](#Vector-Calculus)\n",
    "3. [Coordinate Systems](#Coordinate-Systems)"
   ]
  },
  {
   "cell_type": "markdown",
   "metadata": {},
   "source": [
    "# Brief Review of Vector Analysis\n",
    "[[back to top]](#Table-of-Contents)\n",
    "\n",
    "**Position vector** \n",
    "\n",
    "$\\mathbf{r}(t) = x(t)\\mathbf{\\hat{x}} + y(t)\\mathbf{\\hat{y}} + z(t)\\mathbf{\\hat{z}}$ where $|\\mathbf{\\hat{x}}| = |\\mathbf{\\hat{y}}| = |\\mathbf{\\hat{z}}| = 1$.\n",
    "\n",
    "**Velocity**\n",
    "\\begin{align*} \\mathbf{v} &= \\frac{d}{dt}\\mathbf{r} = \\frac{d}{dt}x(t)\\mathbf{\\hat{x}} + \\frac{d}{dt}y(t)\\mathbf{\\hat{y}} + \\frac{d}{dt}z(t)\\mathbf{\\hat{z}} \\\\\n",
    "&= \\mathbf{\\dot{r}} = \\dot{x}(t)\\mathbf{\\hat{x}} + \\dot{y}(t)\\mathbf{\\hat{y}} + \\dot{z}(t)\\mathbf{\\hat{z}} \\end{align*}\n",
    "\n",
    "**Dot Product**\n",
    "\n",
    "- Dot product is a scalar.\n",
    "- $\\mathbf{a} \\cdot \\mathbf{b} = |\\mathbf{a}| \\; |\\mathbf{b}| \\; \\cos\\theta  = a_xb_x + a_yb_y + a_zb_z $\n",
    "- Where is the second equality is because $\\mathbf{\\hat{e}}_i \\cdot \\mathbf{\\hat{e}}_j = 0$ for $i \\neq j$ and $1$ when $i=j$. \n",
    "\n",
    "**Cross Product**\n",
    "\n",
    "- The cross product $\\mathbf{a} \\times \\mathbf{b}$ is defined as a vector $\\mathbf{c}$ that is perpendicular to both $\\mathbf{a}$ and $\\mathbf{b}$, with a direction given by the right-hand rule and a magnitude equal to the area of the parallelogram that the vectors span.\n",
    "- $\\vec{A} \\times \\vec{B} = \\left( A_y B_z - A_z B_y \\right) \\hat{x} - \\left( A_x B_z - A_z B_x \\right) \\hat{y} + \\left( A_x B_y - A_y B_x \\right) \\hat{z}$\n",
    "- $\\left| \\mathbf{a} \\times \\mathbf{b} \\right|= |\\mathbf{a}| \\; |\\mathbf{b}| \\; \\sin\\theta $"
   ]
  },
  {
   "cell_type": "markdown",
   "metadata": {},
   "source": [
    "# Vector Calculus\n",
    "[[back to top]](#Table-of-Contents)\n",
    "\n",
    "First we introduce the del operator $\\nabla$. Formally, this can be written in Cartesian coordinates as: $\\vec{\\nabla} = \\hat{x}\\frac{\\partial}{\\partial x} + \\hat{y}\\frac{\\partial}{\\partial y} + \\hat{z}\\frac{\\partial}{\\partial z}$.\n",
    "\n",
    "**Gradient**\n",
    "\n",
    "If we let $\\nabla$ act on a scalar function $f(x, y, z)$, we get back a vector field called the gradient. \n",
    "\n",
    "$$ \\vec{\\nabla} f(x,y,z) = \\hat{x}\\frac{\\partial f}{\\partial x} + \\hat{y}\\frac{\\partial f}{\\partial y} + \\hat{z}\\frac{\\partial f}{\\partial z} $$\n",
    "\n",
    "In mathematics, the gradient is a multi-variable generalization of the derivative. While a derivative can be defined on functions of a single variable, for functions of several variables, the gradient takes its place. The gradient is a vector-valued function, as opposed to a derivative, which is scalar-valued.\n",
    "\n",
    "Like the derivative, the gradient represents the slope of the tangent of the graph of the function. More precisely, the gradient points in the direction of the greatest rate of increase of the function, and its magnitude is the slope of the graph in that direction. The components of the gradient in coordinates are the coefficients of the variables in the equation of the tangent space to the graph. This characterizing property of the gradient allows it to be defined independently of a choice of coordinate system, as a vector field whose components in a coordinate system will transform when going from one coordinate system to another.\n",
    "\n",
    "**Divergence**\n",
    "\n",
    "In vector calculus, divergence is a vector operator that produces a scalar field giving the quantity of a vector field's source at each point. More technically, the divergence represents the volume density of the outward flux of a vector field from an infinitesimal volume around a given point.\n",
    "\n",
    "As an example, consider air as it is heated or cooled. The velocity of the air at each point defines a vector field. While air is heated in a region, it expands in all directions, and thus the velocity field points outward from that region. The divergence of the velocity field in that region would thus have a positive value. While the air is cooled and thus contracting, the divergence of the velocity has a negative value.\n",
    "\n",
    "$$ \\vec{\\nabla} \\cdot \\vec{A}(x,y,z) = \\frac{\\partial A_x}{ \\partial x} + \\frac{\\partial A_y}{ \\partial y} + \\frac{\\partial A_z}{ \\partial z} $$\n",
    "\n",
    "**Curl**\n",
    "\n",
    "In vector calculus, the curl is a vector operator that describes the infinitesimal rotation of a vector field in three-dimensional Euclidean space. At every point in the field, the curl of that point is represented by a vector. The attributes of this vector (length and direction) characterize the rotation at that point.\n",
    "\n",
    "The direction of the curl is the axis of rotation, as determined by the right-hand rule, and the magnitude of the curl is the magnitude of rotation. If the vector field represents the flow velocity of a moving fluid, then the curl is the circulation density of the fluid. A vector field whose curl is zero is called irrotational. The curl is a form of differentiation for vector fields. The corresponding form of the fundamental theorem of calculus is Stokes' theorem, which relates the surface integral of the curl of a vector field to the line integral of the vector field around the boundary curve.\n",
    "\n",
    "Unlike the gradient and divergence, curl does not generalize as simply to other dimensions; some generalizations are possible, but only in three dimensions is the geometrically defined curl of a vector field again a vector field. This is a similar phenomenon as in the 3 dimensional cross product, and the connection is reflected in the notation for the curl.\n",
    "\n",
    "$$ \\vec{\\nabla} \\times \\vec{A}(x,y,z) = \\left( \\frac{\\partial A_z}{\\partial y} - \\frac{\\partial A_y}{\\partial z} \\right) \\hat{x} - \\left( \\frac{\\partial A_z}{\\partial x} - \\frac{\\partial A_x}{\\partial z} \\right) \\hat{y} + \\left( \\frac{\\partial A_y}{\\partial x} - \\frac{\\partial A_x}{\\partial y} \\right) \\hat{z} $$"
   ]
  },
  {
   "cell_type": "markdown",
   "metadata": {},
   "source": [
    "# Coordinate Systems\n",
    "[[back to top]](#Table-of-Contents)\n",
    "\n",
    "If we select a point, we can describe the location of this point by a position vector, which we call $\\vec{r}$. And this position vector $\\vec{r}$ can be written as $\\vec{r} = x \\hat{x} + y \\hat{y}$, where the y-component is the projection of the vector on the y-axis, and the x-component is the projection of vector on the x-axis.\n",
    "\n",
    "In two dimensions, we can convert this to polar coordinates using the projections $x = r \\cos(\\theta)$ and $y = r \\sin(\\theta)$. In reverse, we can express $r$ and $\\theta$ in terms of $x, y$: $y = r \\sin(\\theta)$ and $\\theta = \\arctan \\left( \\frac{y}{x} \\right)$.\n",
    "\n",
    "Now in three dimensions, we won't use polar coordinates, but we can use something called spherical coordinates. Again, we have our Cartesian axes $x$, $y$, and $z$. If we take a point, we can write it by first projecting onto the xy plane, and then also projecting onto the z-axis.\n",
    "\n",
    "We can obtain the $x$, $y$, and $z$ components as follows:\n",
    "\\begin{align*} x &= r \\sin(\\theta) \\cos(\\phi) \\\\\n",
    "y &= r \\sin(\\theta) \\sin(\\phi) \\\\ \n",
    "z &= r\\cos(\\theta) \\end{align*}\n",
    "\n",
    "In spherical coordinates, we introduced two angles. One angle is called phi ($\\phi$). We introduce another angle called theta ($\\theta$). $\\theta$ is the angle that the position vector makes with respect to the z-axis here. $\\phi$ is the angle that the position vector makes with respect to the x-axis. Note that in spherical coordinates, $\\phi$ takes the same role that $\\theta$ had in polar coordinates. Like before, we have $\\vec{r} = x \\hat{x} + y \\hat{y} + z \\hat{z}$."
   ]
  }
 ],
 "metadata": {
  "kernelspec": {
   "display_name": "Python 3",
   "language": "python",
   "name": "python3"
  },
  "language_info": {
   "codemirror_mode": {
    "name": "ipython",
    "version": 3
   },
   "file_extension": ".py",
   "mimetype": "text/x-python",
   "name": "python",
   "nbconvert_exporter": "python",
   "pygments_lexer": "ipython3",
   "version": "3.6.1"
  }
 },
 "nbformat": 4,
 "nbformat_minor": 2
}

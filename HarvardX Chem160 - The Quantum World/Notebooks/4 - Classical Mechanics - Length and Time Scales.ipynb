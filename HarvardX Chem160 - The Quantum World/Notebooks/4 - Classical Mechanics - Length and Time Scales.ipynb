{
 "cells": [
  {
   "cell_type": "markdown",
   "metadata": {},
   "source": [
    "# Table of Contents\n",
    "1. [Length and Time Scales](#Length-and-Time-Scales)\n",
    "2. [Classical Motion - Newton's Apple](#Classical-Motion---Newton's-Apple)\n",
    "3. [Classical Motion - Analytics vs. Numerical Methods](#Classical-Motion---Analytics-vs.-Numerical-Methods)\n",
    "4. [The Hamiltonian Method and Phase Space](#The-Hamiltonian-Method-and-Phase-Space)"
   ]
  },
  {
   "cell_type": "markdown",
   "metadata": {},
   "source": [
    "# Length and Time Scales\n",
    "[[back to top]](#Table-of-Contents)\n",
    "\n",
    "| Scope | Length Scale | Time Scale |\n",
    "|--|--|--|\n",
    "| Quantum | 1 Angstrom to 1 nm ($10^{-10}$ m to $10^{-9}$ m)| $\\approx 10 $ fs |\n",
    "| Classical | 2 to 20 nm | $10^{-6}$ s to $10^{-3}$ s |\n",
    "\n",
    "Nuclear motion happens on the time scale of about 10 femtoseconds. At these length and time scales, we retain the quantum mechanical properties of superposition, interference, and entanglement.\n",
    "\n",
    "On the other side of the spectrum, we have things like proteins (e.g. cytosol), which we typically look at through the lens of classical mechanics. "
   ]
  },
  {
   "cell_type": "markdown",
   "metadata": {},
   "source": [
    "# Classical Motion - Newton's Apple\n",
    "[[back to top]](#Table-of-Contents)\n",
    "\n",
    "Steps:\n",
    "1. Set a coordinate system (e.g. $x$, $y$, $z$)\n",
    "2. Define degrees of freedom (dynamical variables, e.g. translational, rotational, or vibrational)\n",
    "3. Write equations of motion (e.g. Newton's equations, Hamilton's equations)\n",
    "4. Define initial (and boundary) conditions (e.g. \n",
    "5. Integrate equations of motion\n",
    "\n",
    "Example:\n",
    "- Imagine an apple with an initial height $h$ falling to the floor. What is the apple's trajectory?\n",
    "- The apple starts at $z=h$, and moves to $z=0$\n",
    "- $\\vec{F} = m\\ddot{z} = -\\frac{d}{dz}U(z)$ where $U(z)$ is the potential energy, $U(z) = mgz$\n",
    "- Set $m\\ddot{z} = -\\frac{d}{dz}(mgz) = -g$\n",
    "- Initial conditions for $z(t)$: $z(0) = h$, and $\\dot{z}(t) = 0$\n",
    "- Integrate twice to get equations of motion:\n",
    "\\begin{align*}\n",
    "\\int_0^t dt^\\prime \\frac{d^2 z}{dt^{\\prime 2}} &= -g\\int_0^t dt^\\prime \\\\\n",
    "\\frac{dz(t)}{dt} - \\frac{dz(0)}{dt} & = -gt\n",
    "\\end{align*}\n",
    "- The second part of the left hand goes to zero due to the initial conditions, and then we integrate again:\n",
    "\\begin{align*}\n",
    "\\int_0^t dt^\\prime \\frac{d z}{dt^{\\prime}} &= -g\\int_0^t dt^\\prime t\\\\\n",
    "z(t) - z(0) &= -\\frac{1}{2}gt^2\n",
    "\\end{align*}\n",
    "- Which we can arrange into the final equation of motion for the falling apple:\n",
    "$$ z(t) = -\\frac{gt^2}{2} + h $$\n",
    "\n",
    "This is a very simple analytical solution for a classical mechanics problem."
   ]
  },
  {
   "cell_type": "markdown",
   "metadata": {},
   "source": [
    "# Classical Motion - Analytics vs. Numerical Methods\n",
    "[[back to top]](#Table-of-Contents)\n",
    "\n",
    "Let's now look at an example for a few planets moving around the sun. For a single planet, it's easy. The coordinates of the planet are $(r, \\theta)$ and we can describe the motion using Newton's equations. For two or more planets, we will have to resort to numerical solutions. \n",
    "\n",
    "We start with Newton's equations, and use Euler's method, which is a finite difference approximation. \n",
    "\n",
    "$$ \\vec{F} = m\\left( \\frac{d \\ \\vec{v}(t)}{dt} \\right) \\approx m\\left( \\frac{\\vec{v}(t + \\Delta t) - \\vec{v}(t)}{\\Delta t} \\right) $$"
   ]
  },
  {
   "cell_type": "markdown",
   "metadata": {},
   "source": [
    "# The Hamiltonian Method and Phase Space\n",
    "[[back to top]](#Table-of-Contents)\n",
    "\n",
    "An alternative and equivalent way to write Newton's equation is as a set of coupled differential equations known as Hamilton's equations. The method is more general as it describes dynamics in phase space and considers position and momentum on equal footing.\n",
    "\n",
    "For a system that has no time-dependent force (and no dissipation), we can write the Hamiltonian as the sum of the kinetic energy and the potential energy: \n",
    "$$ H = T + U = \\frac{p^2}{2m} + U(\\vec{r}) $$\n",
    "where $p = m\\vec{v}$ is the momentum. The equations of motion are then a set of coupled differential equations called Hamilton's equations:\n",
    "\n",
    "$$ \\frac{\\partial p_i}{\\partial t} = -\\frac{\\partial_H}{\\partial r_i} ~~\\mbox{ and }~~ \\frac{\\partial r_i}{\\partial t} = \\frac{\\partial_H}{\\partial p_i} $$\n",
    "\n",
    "Notice how these equations are symmetrical in position and momentum, except for the minus time. Our goal is to solve for $\\vec{p}(t)$ and $\\vec{r}(t)$ given $\\vec{p}(0)$ and $\\vec{r}(0)$. \n",
    "\n",
    "These equations allow us to easily define the concept of phase space, where we have an axis that represents the position, and another axis that reprsents the momentum. The falling apple in phase space is a curve that starts with $z=h$ and $p=0$ and goes to $z=0$ and $p=-\\sqrt{2(h-z)}$."
   ]
  }
 ],
 "metadata": {
  "kernelspec": {
   "display_name": "Python 3",
   "language": "python",
   "name": "python3"
  },
  "language_info": {
   "codemirror_mode": {
    "name": "ipython",
    "version": 3
   },
   "file_extension": ".py",
   "mimetype": "text/x-python",
   "name": "python",
   "nbconvert_exporter": "python",
   "pygments_lexer": "ipython3",
   "version": "3.6.1"
  }
 },
 "nbformat": 4,
 "nbformat_minor": 2
}

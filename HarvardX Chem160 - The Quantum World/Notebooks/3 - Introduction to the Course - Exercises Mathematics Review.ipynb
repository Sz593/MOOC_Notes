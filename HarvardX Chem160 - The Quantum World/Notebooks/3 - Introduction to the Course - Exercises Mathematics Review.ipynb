{
 "cells": [
  {
   "cell_type": "code",
   "execution_count": 29,
   "metadata": {},
   "outputs": [],
   "source": [
    "import numpy as np\n",
    "\n",
    "import sympy\n",
    "from sympy import Symbol, symbols\n",
    "from sympy.physics.vector import ReferenceFrame, time_derivative, dynamicsymbols\n",
    "\n",
    "import matplotlib.pyplot as plt\n",
    "\n",
    "%matplotlib inline"
   ]
  },
  {
   "cell_type": "code",
   "execution_count": 4,
   "metadata": {},
   "outputs": [
    {
     "data": {
      "text/plain": [
       "5"
      ]
     },
     "execution_count": 4,
     "metadata": {},
     "output_type": "execute_result"
    }
   ],
   "source": [
    "# 1\n",
    "a = np.array([3, 1, -2])\n",
    "b = np.array([1, 2, 0])\n",
    "\n",
    "np.dot(a, b)"
   ]
  },
  {
   "cell_type": "code",
   "execution_count": 5,
   "metadata": {},
   "outputs": [
    {
     "data": {
      "text/plain": [
       "array([ 4, -2,  5])"
      ]
     },
     "execution_count": 5,
     "metadata": {},
     "output_type": "execute_result"
    }
   ],
   "source": [
    "#2 \n",
    "a = np.array([3, 1, -2])\n",
    "b = np.array([1, 2, 0])\n",
    "\n",
    "np.cross(a, b)"
   ]
  },
  {
   "cell_type": "markdown",
   "metadata": {},
   "source": [
    "### 3\n",
    "Consider a particle moving in the x-y plane with a position vector given by $\\vec{r}(t) = sin(\\omega t) \\hat{x} + cos(\\omega t) \\hat{y}$. What is the velocity vector $\\vec{v}(t)$ for this particle?"
   ]
  },
  {
   "cell_type": "code",
   "execution_count": 15,
   "metadata": {
    "collapsed": true
   },
   "outputs": [],
   "source": [
    "omega, t = symbols('omega, t')\n",
    "e = ReferenceFrame('e')"
   ]
  },
  {
   "cell_type": "code",
   "execution_count": 20,
   "metadata": {
    "collapsed": true
   },
   "outputs": [],
   "source": [
    "vec_r = sympy.sin(omega * t) * e.x + sympy.cos(omega*t) * e.y"
   ]
  },
  {
   "cell_type": "code",
   "execution_count": 27,
   "metadata": {},
   "outputs": [
    {
     "data": {
      "text/plain": [
       "omega*cos(omega*t)*e.x - omega*sin(omega*t)*e.y"
      ]
     },
     "execution_count": 27,
     "metadata": {},
     "output_type": "execute_result"
    }
   ],
   "source": [
    "vec_r.diff(t, e)"
   ]
  },
  {
   "cell_type": "markdown",
   "metadata": {},
   "source": [
    "### 4\n",
    "Consider again the same particle moving in the x-y plane with a position vector given by $\\vec{r}(t) = sin(\\omega t) \\hat{x} + cos(\\omega t) \\hat{y}$. What is the shape of the path this particle traces out as it moves through space?"
   ]
  },
  {
   "cell_type": "code",
   "execution_count": 30,
   "metadata": {},
   "outputs": [
    {
     "data": {
      "text/plain": [
       "[<matplotlib.lines.Line2D at 0x23671d48cc0>]"
      ]
     },
     "execution_count": 30,
     "metadata": {},
     "output_type": "execute_result"
    },
    {
     "data": {
      "image/png": "[encoded data removed]",
      "text/plain": [
       "<matplotlib.figure.Figure at 0x236718f5d30>"
      ]
     },
     "metadata": {},
     "output_type": "display_data"
    }
   ],
   "source": [
    "omega = 1\n",
    "t = np.linspace(0, 10, 1000)\n",
    "\n",
    "x = np.sin(omega * t)\n",
    "y = np.cos(omega * t)\n",
    "\n",
    "plt.plot(x, y)"
   ]
  },
  {
   "cell_type": "markdown",
   "metadata": {},
   "source": [
    "### 5\n",
    "\n",
    "what is $\\vec{r} \\cdot \\vec{v}$?"
   ]
  },
  {
   "cell_type": "code",
   "execution_count": 31,
   "metadata": {},
   "outputs": [
    {
     "data": {
      "text/plain": [
       "0"
      ]
     },
     "execution_count": 31,
     "metadata": {},
     "output_type": "execute_result"
    }
   ],
   "source": [
    "omega, t = symbols('omega, t')\n",
    "e = ReferenceFrame('e')\n",
    "\n",
    "vec_r = sympy.sin(omega * t) * e.x + sympy.cos(omega*t) * e.y\n",
    "vec_v = vec_r.diff(t, e)\n",
    "\n",
    "sympy.physics.vector.dot(vec_r, vec_v)"
   ]
  },
  {
   "cell_type": "markdown",
   "metadata": {},
   "source": [
    "This makes sense, becuase the velocity vector is everywhere perpendicular to the position vector as it should be for circular motion."
   ]
  },
  {
   "cell_type": "code",
   "execution_count": null,
   "metadata": {
    "collapsed": true
   },
   "outputs": [],
   "source": []
  }
 ],
 "metadata": {
  "kernelspec": {
   "display_name": "Python 3",
   "language": "python",
   "name": "python3"
  },
  "language_info": {
   "codemirror_mode": {
    "name": "ipython",
    "version": 3
   },
   "file_extension": ".py",
   "mimetype": "text/x-python",
   "name": "python",
   "nbconvert_exporter": "python",
   "pygments_lexer": "ipython3",
   "version": "3.6.1"
  }
 },
 "nbformat": 4,
 "nbformat_minor": 2
}
